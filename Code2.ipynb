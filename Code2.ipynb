{
 "cells": [
  {
   "cell_type": "code",
   "execution_count": 1,
   "id": "18b8bb4b-8ba1-4437-b5f7-27b2de76344b",
   "metadata": {},
   "outputs": [],
   "source": [
    "### Import block"
   ]
  },
  {
   "cell_type": "code",
   "execution_count": 2,
   "id": "57af50e8-a5a6-4538-a9d6-a28affaeb331",
   "metadata": {},
   "outputs": [],
   "source": [
    "import numpy as np\n",
    "import tensorflow as tf\n",
    "import matplotlib.pyplot as plt\n",
    "import torch\n",
    "import pandas as pd\n",
    "import gdown\n",
    "import zipfile\n",
    "import os\n",
    "import seaborn as sns"
   ]
  },
  {
   "cell_type": "code",
   "execution_count": 3,
   "id": "f3cca39f-f12b-489e-845a-a062b0c1a7a6",
   "metadata": {},
   "outputs": [],
   "source": [
    "# sub import"
   ]
  },
  {
   "cell_type": "code",
   "execution_count": 4,
   "id": "53b3581f-9171-4995-abe7-f4bc8d012a60",
   "metadata": {},
   "outputs": [],
   "source": [
    "from tensorflow.python.keras.utils.version_utils import callbacks\n",
    "from torchvision import datasets, transforms\n",
    "from keras.callbacks import ModelCheckpoint\n",
    "from keras.src.legacy.preprocessing.image import ImageDataGenerator\n",
    "from keras.src.metrics.accuracy_metrics import accuracy\n",
    "from tensorflow.keras.applications import MobileNetV2\n",
    "from tensorflow.keras import layers, models\n",
    "from sklearn.metrics import confusion_matrix, classification_report"
   ]
  },
  {
   "cell_type": "code",
   "execution_count": 5,
   "id": "61528e7f-a234-4b62-83da-dbc36095eb50",
   "metadata": {},
   "outputs": [],
   "source": [
    "### Loading data into the workspace"
   ]
  },
  {
   "cell_type": "code",
   "execution_count": 6,
   "id": "2798699e-6d69-42bf-b1b3-d6587cfb1a12",
   "metadata": {},
   "outputs": [
    {
     "name": "stderr",
     "output_type": "stream",
     "text": [
      "Downloading...\n",
      "From (original): https://drive.google.com/uc?id=1WEySXMFz6v1OgPkLKJ8QIp3Lk-eyTObY\n",
      "From (redirected): https://drive.google.com/uc?id=1WEySXMFz6v1OgPkLKJ8QIp3Lk-eyTObY&confirm=t&uuid=e2e68c43-f55e-4c80-b9aa-fec03ebbeed1\n",
      "To: C:\\Users\\NV_User\\Code\\Teeth Dataset.zip\n",
      "100%|█████████████████████████████████████████████████████████████████████████████| 49.1M/49.1M [00:33<00:00, 1.46MB/s]\n"
     ]
    },
    {
     "data": {
      "text/plain": [
       "'Teeth Dataset.zip'"
      ]
     },
     "execution_count": 6,
     "metadata": {},
     "output_type": "execute_result"
    }
   ],
   "source": [
    "file_id = \"1WEySXMFz6v1OgPkLKJ8QIp3Lk-eyTObY\"\n",
    "url = f\"https://drive.google.com/uc?id={file_id}\"\n",
    "output = \"Teeth Dataset.zip\"\n",
    "gdown.download(url, output, fuzzy=True)"
   ]
  },
  {
   "cell_type": "code",
   "execution_count": 7,
   "id": "e9dac4a5-53c5-4d12-9278-bf8ca1b2760d",
   "metadata": {},
   "outputs": [],
   "source": [
    "# unzip"
   ]
  },
  {
   "cell_type": "code",
   "execution_count": 8,
   "id": "5a8a9ba8-8ba8-4190-b7c7-2ccd161a4813",
   "metadata": {},
   "outputs": [],
   "source": [
    "with zipfile.ZipFile(output) as zip_ref:\n",
    "    zip_ref.extractall(\"Teeth_Dataset\")\n"
   ]
  },
  {
   "cell_type": "code",
   "execution_count": 9,
   "id": "3b959b17-b8f4-457d-8df3-8b2d7bbc8f7f",
   "metadata": {},
   "outputs": [],
   "source": [
    "# loading details"
   ]
  },
  {
   "cell_type": "code",
   "execution_count": 10,
   "id": "bdbfa42f-1d40-4b53-b467-f92278281a9a",
   "metadata": {},
   "outputs": [],
   "source": [
    "data_directory = \"Teeth_Dataset/Teeth_Dataset\"\n",
    "diseases = [\"CaS\", \"CoS\", \"Gum\", \"MC\", \"OC\", \"OLP\", \"OT\"]\n",
    "img_size = (256,256)\n",
    "batch_size = 32"
   ]
  },
  {
   "cell_type": "code",
   "execution_count": 11,
   "id": "dbb96c2f-cfea-4441-8186-4e71bc4c3731",
   "metadata": {},
   "outputs": [],
   "source": [
    "# normalization"
   ]
  },
  {
   "cell_type": "code",
   "execution_count": 12,
   "id": "a8bf0ed3-3697-4603-bb14-563a61f6d5a8",
   "metadata": {},
   "outputs": [],
   "source": [
    "normalization_layer = tf.keras.layers.Rescaling(1./255)"
   ]
  },
  {
   "cell_type": "code",
   "execution_count": 13,
   "id": "5e7a16f9-57b3-4dc5-8825-6d3600dd6359",
   "metadata": {},
   "outputs": [],
   "source": [
    "# training data"
   ]
  },
  {
   "cell_type": "code",
   "execution_count": 14,
   "id": "0fb77f91-7672-4f35-a807-7b4f473e1b38",
   "metadata": {},
   "outputs": [
    {
     "name": "stdout",
     "output_type": "stream",
     "text": [
      "Found 3087 files belonging to 7 classes.\n"
     ]
    }
   ],
   "source": [
    "dataset_training = tf.keras.utils.image_dataset_from_directory(\n",
    "    os.path.join(data_directory, \"Training\"),\n",
    "    image_size=img_size,\n",
    "    batch_size=batch_size,\n",
    "    class_names=diseases\n",
    ")\n",
    "dataset_training = dataset_training.map(lambda x, y: (normalization_layer(x), y))"
   ]
  },
  {
   "cell_type": "code",
   "execution_count": 15,
   "id": "91303b08-e9d1-4714-9d84-a229b63a19eb",
   "metadata": {},
   "outputs": [],
   "source": [
    "# validation data"
   ]
  },
  {
   "cell_type": "code",
   "execution_count": 16,
   "id": "a2831b6d-0239-4172-bfff-763a4b11ebbc",
   "metadata": {},
   "outputs": [
    {
     "name": "stdout",
     "output_type": "stream",
     "text": [
      "Found 1028 files belonging to 7 classes.\n"
     ]
    }
   ],
   "source": [
    "dataset_validation = tf.keras.utils.image_dataset_from_directory(\n",
    "    os.path.join(data_directory, \"Validation\"),\n",
    "    image_size=img_size,\n",
    "    batch_size=batch_size,\n",
    "    class_names=diseases\n",
    ")\n",
    "dataset_validation = dataset_validation.map(lambda x, y: (normalization_layer(x), y))"
   ]
  },
  {
   "cell_type": "code",
   "execution_count": 17,
   "id": "633e2d1c-6495-44a5-ad76-556e6c249e8a",
   "metadata": {},
   "outputs": [],
   "source": [
    "# testing data"
   ]
  },
  {
   "cell_type": "code",
   "execution_count": 18,
   "id": "6a0f0fca-5524-4e4c-99ac-246e0f49e86c",
   "metadata": {},
   "outputs": [
    {
     "name": "stdout",
     "output_type": "stream",
     "text": [
      "Found 1028 files belonging to 7 classes.\n"
     ]
    }
   ],
   "source": [
    "\n",
    "dataset_testing = tf.keras.utils.image_dataset_from_directory(\n",
    "    os.path.join(data_directory, \"Testing\"),\n",
    "    image_size=img_size,\n",
    "    batch_size=batch_size,\n",
    "    class_names=diseases\n",
    ")\n",
    "dataset_testing = dataset_testing.map(lambda x, y: (normalization_layer(x), y))"
   ]
  },
  {
   "cell_type": "code",
   "execution_count": 19,
   "id": "7bf8fcfe-0ee9-4511-a08a-5f9eadb60834",
   "metadata": {},
   "outputs": [],
   "source": [
    "#data augmentation"
   ]
  },
  {
   "cell_type": "code",
   "execution_count": 20,
   "id": "1a4389e8-b475-43e7-98be-d3247445c3d1",
   "metadata": {},
   "outputs": [],
   "source": [
    "data_augmentation = tf.keras.Sequential([\n",
    "    layers.RandomFlip(\"horizontal\"),\n",
    "    layers.RandomRotation(0.1),\n",
    "    layers.RandomZoom(0.1),\n",
    "], name=\"data_augmentation\")\n"
   ]
  },
  {
   "cell_type": "code",
   "execution_count": 21,
   "id": "5b9c13b0-3b93-4f1f-ac9a-c8bb17126af9",
   "metadata": {},
   "outputs": [],
   "source": [
    "### Building the model"
   ]
  },
  {
   "cell_type": "code",
   "execution_count": 22,
   "id": "a037df23-797b-45bf-a833-a4d50de57557",
   "metadata": {},
   "outputs": [],
   "source": [
    "# MobileNetV2\n",
    "def build_mobilenetV2_classifier(num_classes=7):\n",
    "    base_model = MobileNetV2(include_top=False,input_shape=(256,256,3))\n",
    "    base_model.trainable = False\n",
    "    model = models.Sequential([\n",
    "        data_augmentation,\n",
    "        base_model,\n",
    "        layers.GlobalAveragePooling2D(),\n",
    "        #adding batch normalization\n",
    "        layers.Dense(64, activation=\"relu\"),\n",
    "        layers.BatchNormalization(),\n",
    "        layers.Dropout(0.5),\n",
    "        layers.Dense(num_classes, activation=\"softmax\")\n",
    "    ])\n",
    "    #compile\n",
    "    model.compile(\n",
    "        optimizer=tf.keras.optimizers.Adam(),\n",
    "        loss=\"sparse_categorical_crossentropy\",\n",
    "        metrics=[\"accuracy\"]\n",
    "    )\n",
    "    #unfreezing layers for finetuning\n",
    "    base_model.trainable = True\n",
    "    for layer in base_model.layers[:-50]:\n",
    "        layer.trainable = False\n",
    "    model.compile(\n",
    "        optimizer=tf.keras.optimizers.Adam(learning_rate=0.0005),\n",
    "        loss = \"sparse_categorical_crossentropy\",\n",
    "        metrics = [\"accuracy\"]\n",
    "    )\n",
    "    return model"
   ]
  },
  {
   "cell_type": "code",
   "execution_count": 23,
   "id": "efac9808-a26d-4456-b9ed-6e827fd67d04",
   "metadata": {},
   "outputs": [],
   "source": [
    "# training the model"
   ]
  },
  {
   "cell_type": "code",
   "execution_count": 24,
   "id": "1d583edc-6d62-4eef-a13d-3fef1787e591",
   "metadata": {},
   "outputs": [
    {
     "name": "stderr",
     "output_type": "stream",
     "text": [
      "C:\\Users\\NV_User\\AppData\\Local\\Temp\\ipykernel_14352\\3072252310.py:3: UserWarning: `input_shape` is undefined or non-square, or `rows` is not in [96, 128, 160, 192, 224]. Weights for input shape (224, 224) will be loaded as the default.\n",
      "  base_model = MobileNetV2(include_top=False,input_shape=(256,256,3))\n"
     ]
    }
   ],
   "source": [
    "teeth_classifier = build_mobilenetV2_classifier(num_classes=7)"
   ]
  },
  {
   "cell_type": "code",
   "execution_count": 25,
   "id": "9861febd-f0f7-4e52-963e-94b582bc5c63",
   "metadata": {},
   "outputs": [],
   "source": [
    "# model preview "
   ]
  },
  {
   "cell_type": "code",
   "execution_count": 26,
   "id": "173948e9-5dd5-4643-a474-6139c898b63c",
   "metadata": {},
   "outputs": [
    {
     "data": {
      "text/html": [
       "<pre style=\"white-space:pre;overflow-x:auto;line-height:normal;font-family:Menlo,'DejaVu Sans Mono',consolas,'Courier New',monospace\"><span style=\"font-weight: bold\">Model: \"sequential\"</span>\n",
       "</pre>\n"
      ],
      "text/plain": [
       "\u001b[1mModel: \"sequential\"\u001b[0m\n"
      ]
     },
     "metadata": {},
     "output_type": "display_data"
    },
    {
     "data": {
      "text/html": [
       "<pre style=\"white-space:pre;overflow-x:auto;line-height:normal;font-family:Menlo,'DejaVu Sans Mono',consolas,'Courier New',monospace\">┏━━━━━━━━━━━━━━━━━━━━━━━━━━━━━━━━━━━━━━┳━━━━━━━━━━━━━━━━━━━━━━━━━━━━━┳━━━━━━━━━━━━━━━━━┓\n",
       "┃<span style=\"font-weight: bold\"> Layer (type)                         </span>┃<span style=\"font-weight: bold\"> Output Shape                </span>┃<span style=\"font-weight: bold\">         Param # </span>┃\n",
       "┡━━━━━━━━━━━━━━━━━━━━━━━━━━━━━━━━━━━━━━╇━━━━━━━━━━━━━━━━━━━━━━━━━━━━━╇━━━━━━━━━━━━━━━━━┩\n",
       "│ data_augmentation (<span style=\"color: #0087ff; text-decoration-color: #0087ff\">Sequential</span>)       │ ?                           │     <span style=\"color: #00af00; text-decoration-color: #00af00\">0</span> (unbuilt) │\n",
       "├──────────────────────────────────────┼─────────────────────────────┼─────────────────┤\n",
       "│ mobilenetv2_1.00_224 (<span style=\"color: #0087ff; text-decoration-color: #0087ff\">Functional</span>)    │ (<span style=\"color: #00d7ff; text-decoration-color: #00d7ff\">None</span>, <span style=\"color: #00af00; text-decoration-color: #00af00\">8</span>, <span style=\"color: #00af00; text-decoration-color: #00af00\">8</span>, <span style=\"color: #00af00; text-decoration-color: #00af00\">1280</span>)          │       <span style=\"color: #00af00; text-decoration-color: #00af00\">2,257,984</span> │\n",
       "├──────────────────────────────────────┼─────────────────────────────┼─────────────────┤\n",
       "│ global_average_pooling2d             │ ?                           │               <span style=\"color: #00af00; text-decoration-color: #00af00\">0</span> │\n",
       "│ (<span style=\"color: #0087ff; text-decoration-color: #0087ff\">GlobalAveragePooling2D</span>)             │                             │                 │\n",
       "├──────────────────────────────────────┼─────────────────────────────┼─────────────────┤\n",
       "│ dense (<span style=\"color: #0087ff; text-decoration-color: #0087ff\">Dense</span>)                        │ ?                           │     <span style=\"color: #00af00; text-decoration-color: #00af00\">0</span> (unbuilt) │\n",
       "├──────────────────────────────────────┼─────────────────────────────┼─────────────────┤\n",
       "│ batch_normalization                  │ ?                           │     <span style=\"color: #00af00; text-decoration-color: #00af00\">0</span> (unbuilt) │\n",
       "│ (<span style=\"color: #0087ff; text-decoration-color: #0087ff\">BatchNormalization</span>)                 │                             │                 │\n",
       "├──────────────────────────────────────┼─────────────────────────────┼─────────────────┤\n",
       "│ dropout (<span style=\"color: #0087ff; text-decoration-color: #0087ff\">Dropout</span>)                    │ ?                           │               <span style=\"color: #00af00; text-decoration-color: #00af00\">0</span> │\n",
       "├──────────────────────────────────────┼─────────────────────────────┼─────────────────┤\n",
       "│ dense_1 (<span style=\"color: #0087ff; text-decoration-color: #0087ff\">Dense</span>)                      │ ?                           │     <span style=\"color: #00af00; text-decoration-color: #00af00\">0</span> (unbuilt) │\n",
       "└──────────────────────────────────────┴─────────────────────────────┴─────────────────┘\n",
       "</pre>\n"
      ],
      "text/plain": [
       "┏━━━━━━━━━━━━━━━━━━━━━━━━━━━━━━━━━━━━━━┳━━━━━━━━━━━━━━━━━━━━━━━━━━━━━┳━━━━━━━━━━━━━━━━━┓\n",
       "┃\u001b[1m \u001b[0m\u001b[1mLayer (type)                        \u001b[0m\u001b[1m \u001b[0m┃\u001b[1m \u001b[0m\u001b[1mOutput Shape               \u001b[0m\u001b[1m \u001b[0m┃\u001b[1m \u001b[0m\u001b[1m        Param #\u001b[0m\u001b[1m \u001b[0m┃\n",
       "┡━━━━━━━━━━━━━━━━━━━━━━━━━━━━━━━━━━━━━━╇━━━━━━━━━━━━━━━━━━━━━━━━━━━━━╇━━━━━━━━━━━━━━━━━┩\n",
       "│ data_augmentation (\u001b[38;5;33mSequential\u001b[0m)       │ ?                           │     \u001b[38;5;34m0\u001b[0m (unbuilt) │\n",
       "├──────────────────────────────────────┼─────────────────────────────┼─────────────────┤\n",
       "│ mobilenetv2_1.00_224 (\u001b[38;5;33mFunctional\u001b[0m)    │ (\u001b[38;5;45mNone\u001b[0m, \u001b[38;5;34m8\u001b[0m, \u001b[38;5;34m8\u001b[0m, \u001b[38;5;34m1280\u001b[0m)          │       \u001b[38;5;34m2,257,984\u001b[0m │\n",
       "├──────────────────────────────────────┼─────────────────────────────┼─────────────────┤\n",
       "│ global_average_pooling2d             │ ?                           │               \u001b[38;5;34m0\u001b[0m │\n",
       "│ (\u001b[38;5;33mGlobalAveragePooling2D\u001b[0m)             │                             │                 │\n",
       "├──────────────────────────────────────┼─────────────────────────────┼─────────────────┤\n",
       "│ dense (\u001b[38;5;33mDense\u001b[0m)                        │ ?                           │     \u001b[38;5;34m0\u001b[0m (unbuilt) │\n",
       "├──────────────────────────────────────┼─────────────────────────────┼─────────────────┤\n",
       "│ batch_normalization                  │ ?                           │     \u001b[38;5;34m0\u001b[0m (unbuilt) │\n",
       "│ (\u001b[38;5;33mBatchNormalization\u001b[0m)                 │                             │                 │\n",
       "├──────────────────────────────────────┼─────────────────────────────┼─────────────────┤\n",
       "│ dropout (\u001b[38;5;33mDropout\u001b[0m)                    │ ?                           │               \u001b[38;5;34m0\u001b[0m │\n",
       "├──────────────────────────────────────┼─────────────────────────────┼─────────────────┤\n",
       "│ dense_1 (\u001b[38;5;33mDense\u001b[0m)                      │ ?                           │     \u001b[38;5;34m0\u001b[0m (unbuilt) │\n",
       "└──────────────────────────────────────┴─────────────────────────────┴─────────────────┘\n"
      ]
     },
     "metadata": {},
     "output_type": "display_data"
    },
    {
     "data": {
      "text/html": [
       "<pre style=\"white-space:pre;overflow-x:auto;line-height:normal;font-family:Menlo,'DejaVu Sans Mono',consolas,'Courier New',monospace\"><span style=\"font-weight: bold\"> Total params: </span><span style=\"color: #00af00; text-decoration-color: #00af00\">2,257,984</span> (8.61 MB)\n",
       "</pre>\n"
      ],
      "text/plain": [
       "\u001b[1m Total params: \u001b[0m\u001b[38;5;34m2,257,984\u001b[0m (8.61 MB)\n"
      ]
     },
     "metadata": {},
     "output_type": "display_data"
    },
    {
     "data": {
      "text/html": [
       "<pre style=\"white-space:pre;overflow-x:auto;line-height:normal;font-family:Menlo,'DejaVu Sans Mono',consolas,'Courier New',monospace\"><span style=\"font-weight: bold\"> Trainable params: </span><span style=\"color: #00af00; text-decoration-color: #00af00\">1,855,104</span> (7.08 MB)\n",
       "</pre>\n"
      ],
      "text/plain": [
       "\u001b[1m Trainable params: \u001b[0m\u001b[38;5;34m1,855,104\u001b[0m (7.08 MB)\n"
      ]
     },
     "metadata": {},
     "output_type": "display_data"
    },
    {
     "data": {
      "text/html": [
       "<pre style=\"white-space:pre;overflow-x:auto;line-height:normal;font-family:Menlo,'DejaVu Sans Mono',consolas,'Courier New',monospace\"><span style=\"font-weight: bold\"> Non-trainable params: </span><span style=\"color: #00af00; text-decoration-color: #00af00\">402,880</span> (1.54 MB)\n",
       "</pre>\n"
      ],
      "text/plain": [
       "\u001b[1m Non-trainable params: \u001b[0m\u001b[38;5;34m402,880\u001b[0m (1.54 MB)\n"
      ]
     },
     "metadata": {},
     "output_type": "display_data"
    }
   ],
   "source": [
    "teeth_classifier.summary()"
   ]
  },
  {
   "cell_type": "code",
   "execution_count": 27,
   "id": "b282ced7-51c0-4e3d-8e7d-4112028a123b",
   "metadata": {},
   "outputs": [],
   "source": [
    "#callback for saving best"
   ]
  },
  {
   "cell_type": "code",
   "execution_count": 28,
   "id": "4cb5c6ee-f9f0-4820-a213-d48bffcbdccf",
   "metadata": {},
   "outputs": [],
   "source": [
    "checkpoint = ModelCheckpoint(\n",
    "    \"best_teeth_model.keras\",\n",
    "    monitor=\"val_accuracy\",\n",
    "    mode=\"max\",\n",
    "    save_best_only=True,\n",
    "    verbose=1\n",
    ")"
   ]
  },
  {
   "cell_type": "code",
   "execution_count": 29,
   "id": "6a79a222-223e-4622-b67d-6928416708d2",
   "metadata": {},
   "outputs": [],
   "source": [
    "# history"
   ]
  },
  {
   "cell_type": "code",
   "execution_count": 30,
   "id": "135c0d70-23f3-4305-b0c5-e3e3f2b441c9",
   "metadata": {},
   "outputs": [
    {
     "name": "stdout",
     "output_type": "stream",
     "text": [
      "Epoch 1/10\n",
      "\u001b[1m97/97\u001b[0m \u001b[32m━━━━━━━━━━━━━━━━━━━━\u001b[0m\u001b[37m\u001b[0m \u001b[1m0s\u001b[0m 530ms/step - accuracy: 0.4645 - loss: 1.6326\n",
      "Epoch 1: val_accuracy improved from None to 0.15759, saving model to best_teeth_model.keras\n",
      "\u001b[1m97/97\u001b[0m \u001b[32m━━━━━━━━━━━━━━━━━━━━\u001b[0m\u001b[37m\u001b[0m \u001b[1m70s\u001b[0m 651ms/step - accuracy: 0.6051 - loss: 1.1772 - val_accuracy: 0.1576 - val_loss: 4.6502\n",
      "Epoch 2/10\n",
      "\u001b[1m97/97\u001b[0m \u001b[32m━━━━━━━━━━━━━━━━━━━━\u001b[0m\u001b[37m\u001b[0m \u001b[1m0s\u001b[0m 537ms/step - accuracy: 0.8324 - loss: 0.5117\n",
      "Epoch 2: val_accuracy improved from 0.15759 to 0.26751, saving model to best_teeth_model.keras\n",
      "\u001b[1m97/97\u001b[0m \u001b[32m━━━━━━━━━━━━━━━━━━━━\u001b[0m\u001b[37m\u001b[0m \u001b[1m63s\u001b[0m 652ms/step - accuracy: 0.8620 - loss: 0.4320 - val_accuracy: 0.2675 - val_loss: 3.7161\n",
      "Epoch 3/10\n",
      "\u001b[1m97/97\u001b[0m \u001b[32m━━━━━━━━━━━━━━━━━━━━\u001b[0m\u001b[37m\u001b[0m \u001b[1m0s\u001b[0m 532ms/step - accuracy: 0.9235 - loss: 0.2708\n",
      "Epoch 3: val_accuracy improved from 0.26751 to 0.44553, saving model to best_teeth_model.keras\n",
      "\u001b[1m97/97\u001b[0m \u001b[32m━━━━━━━━━━━━━━━━━━━━\u001b[0m\u001b[37m\u001b[0m \u001b[1m63s\u001b[0m 644ms/step - accuracy: 0.9329 - loss: 0.2417 - val_accuracy: 0.4455 - val_loss: 1.7418\n",
      "Epoch 4/10\n",
      "\u001b[1m97/97\u001b[0m \u001b[32m━━━━━━━━━━━━━━━━━━━━\u001b[0m\u001b[37m\u001b[0m \u001b[1m0s\u001b[0m 530ms/step - accuracy: 0.9594 - loss: 0.1488\n",
      "Epoch 4: val_accuracy improved from 0.44553 to 0.66829, saving model to best_teeth_model.keras\n",
      "\u001b[1m97/97\u001b[0m \u001b[32m━━━━━━━━━━━━━━━━━━━━\u001b[0m\u001b[37m\u001b[0m \u001b[1m62s\u001b[0m 642ms/step - accuracy: 0.9595 - loss: 0.1471 - val_accuracy: 0.6683 - val_loss: 0.8955\n",
      "Epoch 5/10\n",
      "\u001b[1m97/97\u001b[0m \u001b[32m━━━━━━━━━━━━━━━━━━━━\u001b[0m\u001b[37m\u001b[0m \u001b[1m0s\u001b[0m 541ms/step - accuracy: 0.9676 - loss: 0.1299\n",
      "Epoch 5: val_accuracy improved from 0.66829 to 0.67607, saving model to best_teeth_model.keras\n",
      "\u001b[1m97/97\u001b[0m \u001b[32m━━━━━━━━━━━━━━━━━━━━\u001b[0m\u001b[37m\u001b[0m \u001b[1m63s\u001b[0m 655ms/step - accuracy: 0.9679 - loss: 0.1244 - val_accuracy: 0.6761 - val_loss: 1.1357\n",
      "Epoch 6/10\n",
      "\u001b[1m97/97\u001b[0m \u001b[32m━━━━━━━━━━━━━━━━━━━━\u001b[0m\u001b[37m\u001b[0m \u001b[1m0s\u001b[0m 541ms/step - accuracy: 0.9703 - loss: 0.1070\n",
      "Epoch 6: val_accuracy improved from 0.67607 to 0.73735, saving model to best_teeth_model.keras\n",
      "\u001b[1m97/97\u001b[0m \u001b[32m━━━━━━━━━━━━━━━━━━━━\u001b[0m\u001b[37m\u001b[0m \u001b[1m64s\u001b[0m 655ms/step - accuracy: 0.9744 - loss: 0.1010 - val_accuracy: 0.7374 - val_loss: 0.8914\n",
      "Epoch 7/10\n",
      "\u001b[1m97/97\u001b[0m \u001b[32m━━━━━━━━━━━━━━━━━━━━\u001b[0m\u001b[37m\u001b[0m \u001b[1m0s\u001b[0m 539ms/step - accuracy: 0.9856 - loss: 0.0747\n",
      "Epoch 7: val_accuracy improved from 0.73735 to 0.79864, saving model to best_teeth_model.keras\n",
      "\u001b[1m97/97\u001b[0m \u001b[32m━━━━━━━━━━━━━━━━━━━━\u001b[0m\u001b[37m\u001b[0m \u001b[1m63s\u001b[0m 653ms/step - accuracy: 0.9825 - loss: 0.0806 - val_accuracy: 0.7986 - val_loss: 0.6999\n",
      "Epoch 8/10\n",
      "\u001b[1m97/97\u001b[0m \u001b[32m━━━━━━━━━━━━━━━━━━━━\u001b[0m\u001b[37m\u001b[0m \u001b[1m0s\u001b[0m 534ms/step - accuracy: 0.9757 - loss: 0.0873\n",
      "Epoch 8: val_accuracy did not improve from 0.79864\n",
      "\u001b[1m97/97\u001b[0m \u001b[32m━━━━━━━━━━━━━━━━━━━━\u001b[0m\u001b[37m\u001b[0m \u001b[1m62s\u001b[0m 644ms/step - accuracy: 0.9786 - loss: 0.0805 - val_accuracy: 0.7179 - val_loss: 1.0076\n",
      "Epoch 9/10\n",
      "\u001b[1m97/97\u001b[0m \u001b[32m━━━━━━━━━━━━━━━━━━━━\u001b[0m\u001b[37m\u001b[0m \u001b[1m0s\u001b[0m 532ms/step - accuracy: 0.9799 - loss: 0.0723\n",
      "Epoch 9: val_accuracy did not improve from 0.79864\n",
      "\u001b[1m97/97\u001b[0m \u001b[32m━━━━━━━━━━━━━━━━━━━━\u001b[0m\u001b[37m\u001b[0m \u001b[1m62s\u001b[0m 641ms/step - accuracy: 0.9848 - loss: 0.0648 - val_accuracy: 0.5574 - val_loss: 1.5859\n",
      "Epoch 10/10\n",
      "\u001b[1m97/97\u001b[0m \u001b[32m━━━━━━━━━━━━━━━━━━━━\u001b[0m\u001b[37m\u001b[0m \u001b[1m0s\u001b[0m 529ms/step - accuracy: 0.9868 - loss: 0.0550\n",
      "Epoch 10: val_accuracy did not improve from 0.79864\n",
      "\u001b[1m97/97\u001b[0m \u001b[32m━━━━━━━━━━━━━━━━━━━━\u001b[0m\u001b[37m\u001b[0m \u001b[1m62s\u001b[0m 638ms/step - accuracy: 0.9841 - loss: 0.0623 - val_accuracy: 0.7704 - val_loss: 0.6402\n"
     ]
    }
   ],
   "source": [
    "history = teeth_classifier.fit(dataset_training,\n",
    "                           validation_data=dataset_validation,\n",
    "                           epochs=10, callbacks=[checkpoint])"
   ]
  },
  {
   "cell_type": "code",
   "execution_count": 31,
   "id": "294b491e-85de-4448-86f1-9527c0ea5683",
   "metadata": {},
   "outputs": [],
   "source": [
    "# visualization function"
   ]
  },
  {
   "cell_type": "code",
   "execution_count": 32,
   "id": "d0291c96-2892-4558-a3f0-a3ef2444b366",
   "metadata": {},
   "outputs": [],
   "source": [
    "def visualization(accuracy, validation_accuracy, loss, validation_loss,epochs):\n",
    "    plt.figure(figsize=(10,5))\n",
    "    plt.plot(epochs, accuracy, \"r\", label=\"Training Accuracy\")\n",
    "    plt.plot(epochs, validation_accuracy, \"g\", label=\"Validation accuracy\")\n",
    "    plt.title(\"Training and validation accuracy\")\n",
    "    plt.xlabel(\"Epochs\")\n",
    "    plt.ylabel(\"Accuracy\")\n",
    "    plt.legend(loc=0)\n",
    "    # new figure\n",
    "    plt.figure()\n",
    "    plt.figure(figsize=(10,5))\n",
    "    plt.plot(epochs, loss, \"b\", label=\"Training Loss\")\n",
    "    plt.plot(epochs, validation_loss, \"y\", label=\"Validation Loss\")\n",
    "    plt.title(\"Training and Validation Loss\")\n",
    "    plt.xlabel(\"Epochs\")\n",
    "    plt.ylabel(\"Loss\")\n",
    "    plt.legend(loc=0)\n",
    "    plt.show()"
   ]
  },
  {
   "cell_type": "code",
   "execution_count": 33,
   "id": "6f4f0ab1-07e6-445e-bda0-c254e6e8c329",
   "metadata": {},
   "outputs": [],
   "source": [
    "#history data acquisition"
   ]
  },
  {
   "cell_type": "code",
   "execution_count": 34,
   "id": "1d3584e7-84dc-4263-ad83-f3aaa56a6104",
   "metadata": {},
   "outputs": [],
   "source": [
    "teeth_classifier_history = history.history\n",
    "accuracy = teeth_classifier_history[\"accuracy\"]\n",
    "validation_accuracy = teeth_classifier_history[\"val_accuracy\"]\n",
    "loss = teeth_classifier_history[\"loss\"]\n",
    "validation_loss = teeth_classifier_history[\"val_loss\"]\n",
    "epochs = history.epoch"
   ]
  },
  {
   "cell_type": "code",
   "execution_count": 35,
   "id": "823fe1c7-c720-4500-980a-0c9266e671e2",
   "metadata": {},
   "outputs": [],
   "source": [
    "#visualization execution"
   ]
  },
  {
   "cell_type": "code",
   "execution_count": 36,
   "id": "9041fef5-89d7-4046-9025-c19a049e80a0",
   "metadata": {},
   "outputs": [
    {
     "data": {
      "image/png": "[encoded data removed]",
      "text/plain": [
       "<Figure size 1000x500 with 1 Axes>"
      ]
     },
     "metadata": {},
     "output_type": "display_data"
    },
    {
     "data": {
      "text/plain": [
       "<Figure size 640x480 with 0 Axes>"
      ]
     },
     "metadata": {},
     "output_type": "display_data"
    },
    {
     "data": {
      "image/png": "[encoded data removed]",
      "text/plain": [
       "<Figure size 1000x500 with 1 Axes>"
      ]
     },
     "metadata": {},
     "output_type": "display_data"
    }
   ],
   "source": [
    "visualization(accuracy,validation_accuracy, loss, validation_loss, epochs)"
   ]
  },
  {
   "cell_type": "code",
   "execution_count": 37,
   "id": "34ab17f5-8690-461c-ab2d-2bc8b0d13e56",
   "metadata": {},
   "outputs": [],
   "source": [
    "#Perparing for more data insights"
   ]
  },
  {
   "cell_type": "code",
   "execution_count": 38,
   "id": "27eba9ff-8fba-4cd2-8f7b-b69ee457bfbe",
   "metadata": {},
   "outputs": [],
   "source": [
    "# Get true labels and predictions\n",
    "y_true = []\n",
    "y_pred = []\n",
    "\n",
    "for images, labels in dataset_testing:\n",
    "    preds = teeth_classifier.predict(images, verbose=0)\n",
    "    y_true.extend(labels.numpy())\n",
    "    y_pred.extend(tf.argmax(preds, axis=1).numpy())\n",
    "\n",
    "y_true = np.array(y_true)\n",
    "y_pred = np.array(y_pred)"
   ]
  },
  {
   "cell_type": "code",
   "execution_count": 39,
   "id": "d6afe767-9e41-4467-8861-888826941ba0",
   "metadata": {},
   "outputs": [],
   "source": [
    "#Confusion Matrix"
   ]
  },
  {
   "cell_type": "code",
   "execution_count": 40,
   "id": "c1c958f8-f9c6-46f6-994c-7b2fd7d6d2b8",
   "metadata": {},
   "outputs": [
    {
     "data": {
      "image/png": "[encoded data removed]",
      "text/plain": [
       "<Figure size 800x600 with 2 Axes>"
      ]
     },
     "metadata": {},
     "output_type": "display_data"
    }
   ],
   "source": [
    "cm = confusion_matrix(y_true, y_pred)\n",
    "\n",
    "plt.figure(figsize=(8,6))\n",
    "sns.heatmap(cm, annot=True, fmt=\"d\", cmap=\"Blues\",\n",
    "            xticklabels=diseases,\n",
    "            yticklabels=diseases)\n",
    "plt.xlabel(\"Predicted\")\n",
    "plt.ylabel(\"True\")\n",
    "plt.title(\"Confusion Matrix\")\n",
    "plt.show()"
   ]
  },
  {
   "cell_type": "code",
   "execution_count": 41,
   "id": "c13b78f1-f90b-45dc-9971-d3bf44594ea8",
   "metadata": {},
   "outputs": [],
   "source": [
    "#Classification Report"
   ]
  },
  {
   "cell_type": "code",
   "execution_count": 42,
   "id": "51609f1c-b084-4924-a11c-aa93d80812ef",
   "metadata": {},
   "outputs": [
    {
     "name": "stdout",
     "output_type": "stream",
     "text": [
      "              precision    recall  f1-score   support\n",
      "\n",
      "         CaS       0.96      0.90      0.93       160\n",
      "         CoS       1.00      0.60      0.75       149\n",
      "         Gum       0.80      0.93      0.86       120\n",
      "          MC       0.84      0.86      0.85       180\n",
      "          OC       1.00      0.39      0.56       108\n",
      "         OLP       0.91      0.72      0.80       180\n",
      "          OT       0.46      0.98      0.63       131\n",
      "\n",
      "    accuracy                           0.78      1028\n",
      "   macro avg       0.85      0.77      0.77      1028\n",
      "weighted avg       0.86      0.78      0.78      1028\n",
      "\n"
     ]
    }
   ],
   "source": [
    "report = classification_report(y_true, y_pred, target_names=diseases)\n",
    "print(report)\n"
   ]
  },
  {
   "cell_type": "code",
   "execution_count": null,
   "id": "e48c2a58-0ae6-4b95-b169-887a0ff0f4fc",
   "metadata": {},
   "outputs": [],
   "source": []
  }
 ],
 "metadata": {
  "kernelspec": {
   "display_name": "Python 3 (ipykernel)",
   "language": "python",
   "name": "python3"
  },
  "language_info": {
   "codemirror_mode": {
    "name": "ipython",
    "version": 3
   },
   "file_extension": ".py",
   "mimetype": "text/x-python",
   "name": "python",
   "nbconvert_exporter": "python",
   "pygments_lexer": "ipython3",
   "version": "3.13.7"
  }
 },
 "nbformat": 4,
 "nbformat_minor": 5
}
